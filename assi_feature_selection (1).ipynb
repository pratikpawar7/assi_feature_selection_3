{
 "cells": [
  {
   "cell_type": "code",
   "execution_count": null,
   "id": "7b9c0110-f72c-4f4a-b9df-079183e06628",
   "metadata": {},
   "outputs": [],
   "source": [
    "'''\n",
    "Q1. What is Min-Max scaling, and how is it used in data preprocessing? Provide an example to illustrate its\n",
    "application.\n",
    "'''\n",
    "Min-Max is also know as normalization , is a data preprocessing technique used to rescale the feature dataset\n",
    "in range 0 to 1 , it transfer the data in such a way , where minimum value is 0 and maximum value is 1 and all other \n",
    "value is linearly scaled between . \n",
    "\n",
    "                                              (x - x_min)\n",
    "formula for Min_Max Scaling (X_normalized) =  ----------------\n",
    "                                              (x_max _ x_min)\n",
    "    \n"
   ]
  },
  {
   "cell_type": "code",
   "execution_count": null,
   "id": "81b76b58-fcb2-47d2-92f3-3b82492b922d",
   "metadata": {},
   "outputs": [],
   "source": [
    "'''\n",
    "Q2. What is the Unit Vector technique in feature scaling, and how does it differ from Min-Max scaling?\n",
    "Provide an example to illustrate its application.\n",
    "'''\n",
    "\n",
    "Unit Vector technique, also known as vector normalization, is a feature scaling method that scales each\n",
    "feature (column) in a dataset such that the length of the feature vector (considered as a vector in \n",
    "multi-dimensional space) becomes.\n",
    "\n",
    "                ∥X∥  \n",
    "X_normalized =-------\n",
    "                  X"
   ]
  },
  {
   "cell_type": "code",
   "execution_count": null,
   "id": "65e5180d-8434-4d7b-a936-3ff9972c658a",
   "metadata": {},
   "outputs": [],
   "source": [
    "'''\n",
    "Q3. What is PCA (Principle Component Analysis), and how is it used in dimensionality reduction? Provide an\n",
    "example to illustrate its application.\n",
    "'''\n",
    "\n",
    "Principal Component Analysis (PCA) is a dimensionality reduction technique commonly used\n",
    "in the field of machine learning and data analysis. Its primary goal is to reduce the \n",
    "dimensionality of a dataset while preserving the most critical information or patterns in the data.\n"
   ]
  },
  {
   "cell_type": "code",
   "execution_count": null,
   "id": "852624b8-8cea-4f3d-a1d5-a7992e8e652d",
   "metadata": {},
   "outputs": [],
   "source": [
    "'''\n",
    "Q4. What is the relationship between PCA and Feature Extraction, and how can PCA be used for Feature\n",
    "Extraction? Provide an example to illustrate this concept.\n",
    "'''\n",
    "\n",
    "Principal Component Analysis (PCA) is a dimensionality reduction technique that can also be\n",
    "used for feature extraction. Feature extraction is the process of transforming the original \n",
    "features of a dataset into a new set of features that are more informative, less redundant, \n",
    "or easier to work with. PCA achieves this by transforming the original features into a set of \n",
    "linearly uncorrelated features called principal components."
   ]
  },
  {
   "cell_type": "code",
   "execution_count": null,
   "id": "bb0a58e6-3ce4-4037-ab2b-5a921756bb6f",
   "metadata": {},
   "outputs": [],
   "source": [
    "'''\n",
    "Q5. You are working on a project to build a recommendation system for a food delivery service. The dataset\n",
    "contains features such as price, rating, and delivery time. Explain how you would use Min-Max scaling to\n",
    "preprocess the data.\n",
    "'''\n",
    "\n",
    "Min-Max scaling is a data preprocessing technique that transforms numerical features to a\n",
    "specific range, typically between 0 and 1. In the context of building a food delivery \n",
    "recommendation system, this means standardizing features like price, rating, and delivery \n",
    "time to have the same scale. By doing so, it ensures that no one feature dominates the\n",
    "recommendation process due to its scale, leading to more balanced and effective recommendations. "
   ]
  },
  {
   "cell_type": "code",
   "execution_count": null,
   "id": "9afa38df-457c-40c3-85a0-cef7e1d527f5",
   "metadata": {},
   "outputs": [],
   "source": [
    "'''\n",
    "Q6. You are working on a project to build a model to predict stock prices. The dataset contains many\n",
    "features, such as company financial data and market trends. Explain how you would use PCA to reduce the\n",
    "dimensionality of the dataset.\n",
    "'''\n",
    "\n",
    "In the context of predicting stock prices, Principal Component Analysis (PCA) is used to \n",
    "reduce the dimensionality of the dataset with numerous financial and market trend features.\n",
    "PCA identifies uncorrelated combinations of features (principal components) that capture the \n",
    "most significant variance in the data. By selecting the top principal components,we can retain \n",
    "essential information while reducing the number of features, simplifying model building, and\n",
    "mitigating multicollinearity issues. This streamlined dataset is then employed as input for\n",
    "stock price prediction models, enhancing efficiency and potentially improving model performance.\n"
   ]
  },
  {
   "cell_type": "code",
   "execution_count": 3,
   "id": "76f6904f-21d3-4c0f-b3a0-7469c993ad1a",
   "metadata": {},
   "outputs": [
    {
     "name": "stdout",
     "output_type": "stream",
     "text": [
      "[-1.         -0.57894737 -0.05263158  0.47368421  1.        ]\n"
     ]
    }
   ],
   "source": [
    "'''\n",
    "Q7. For a dataset containing the following values: [1, 5, 10, 15, 20], perform Min-Max scaling to transform the\n",
    "values to a range of -1 to 1.\n",
    "'''\n",
    "\n",
    "import numpy as np \n",
    "data =np.array([1,5,10,15,20])\n",
    "\n",
    "min= data.min()\n",
    "max = data.max()\n",
    "\n",
    "scaled_data = (2 * (data - min) / (max - min)) - 1\n",
    "\n",
    "print(scaled_data)"
   ]
  },
  {
   "cell_type": "code",
   "execution_count": null,
   "id": "05217556-5a7f-4e16-af22-db7c23142939",
   "metadata": {},
   "outputs": [],
   "source": [
    "'''\n",
    "Q8. For a dataset containing the following features: [height, weight, age, gender, blood pressure], perform\n",
    "Feature Extraction using PCA. How many principal components would you choose to retain, and why?\n",
    "'''\n",
    "\n",
    "The number of principal components to retain in a PCA analysis depends on the specific objectives\n",
    "and the trade-offs involved. Typically, you analyze the explained variance ratio to retain enough\n",
    "components to capture a significant portion of the total variance (e.g., 95% or 99%). The choice\n",
    "should also consider factors like interpretability, application context, computational resources,\n",
    "and the balance between dimensionality reduction and information loss.\n"
   ]
  }
 ],
 "metadata": {
  "kernelspec": {
   "display_name": "Python 3 (ipykernel)",
   "language": "python",
   "name": "python3"
  },
  "language_info": {
   "codemirror_mode": {
    "name": "ipython",
    "version": 3
   },
   "file_extension": ".py",
   "mimetype": "text/x-python",
   "name": "python",
   "nbconvert_exporter": "python",
   "pygments_lexer": "ipython3",
   "version": "3.10.8"
  }
 },
 "nbformat": 4,
 "nbformat_minor": 5
}
